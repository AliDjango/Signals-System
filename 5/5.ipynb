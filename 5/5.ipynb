{
 "cells": [
  {
   "cell_type": "markdown",
   "id": "9c60b4cc",
   "metadata": {},
   "source": [
    "**5.3**\n",
    "\n",
    "\n",
    "Mobin Salehi Nejad, Ali Gharloghi, Kiarash Kia"
   ]
  },
  {
   "cell_type": "markdown",
   "id": "964210c7",
   "metadata": {
    "id": "-PilTEOjF4s_"
   },
   "source": [
    "# Three algebraic properties for convolution:\n",
    "\n",
    "\n",
    "\n",
    "> **Commutative:**\n",
    "\\begin{align}\n",
    "              \\mathbf{x} * \\mathbf{h} = \\mathbf{h} * \\mathbf{x}\n",
    "      \\end{align}\n",
    "---\n",
    "\n",
    "\n",
    "> **Associative:**\n",
    "\\begin{align}\n",
    "              \\mathbf{x} * \\{\\mathbf{h_1} * \\mathbf{h_2}\\} = \\{\\mathbf{x} * \\mathbf{h_1}\\} * \\mathbf{h_2}\n",
    "      \\end{align}\n",
    "---\n",
    "\n",
    "\n",
    "> **Distributive:**\n",
    "\\begin{align}\n",
    "              \\mathbf{x} * \\{\\mathbf{h_1} + \\mathbf{h_2}\\} = \\mathbf{x} * \\mathbf{h_1} + \\mathbf{x} * \\mathbf{h_2}\n",
    "      \\end{align}\n",
    "---"
   ]
  }
 ],
 "metadata": {},
 "nbformat": 4,
 "nbformat_minor": 5
}
