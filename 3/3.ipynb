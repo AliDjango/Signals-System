{
 "cells": [
  {
   "cell_type": "markdown",
   "id": "a4bd2bbe",
   "metadata": {},
   "source": [
    "**3.2**\n",
    "\n",
    "\n",
    "Mahsa Daghestani, Shaghayegh Aliabadi, Elina Eghtaei"
   ]
  },
  {
   "cell_type": "markdown",
   "id": "819a23aa",
   "metadata": {
    "id": "AKyDn7p-Zr4V"
   },
   "source": [
    "#**SIGNALS & SYSTEMS**\n",
    "---\n",
    "▶   **M.SH.E**  \n",
    "lec3/3/3.2\n",
    "\n",
    "*   The unit step\n",
    "*   The unit impulse\n",
    "\n"
   ]
  },
  {
   "cell_type": "markdown",
   "id": "c57cfa36",
   "metadata": {
    "id": "Spm1yzDbgtfY"
   },
   "source": [
    "### ***The Unit Step***\n",
    "1.\n",
    "\\begin{equation}\n",
    " u[n]\n",
    "\\end{equation}\n"
   ]
  },
  {
   "cell_type": "code",
   "execution_count": null,
   "id": "808c5861",
   "metadata": {
    "colab": {
     "base_uri": "https://localhost:8080/",
     "height": 295
    },
    "id": "uACViTXQWylT",
    "outputId": "1861b73e-8373-4d34-a494-eba088b18fac"
   },
   "outputs": [
    {
     "data": {
      "image/png": "[encoded data removed]",
      "text/plain": [
       "<Figure size 432x288 with 1 Axes>"
      ]
     },
     "metadata": {
      "needs_background": "light"
     },
     "output_type": "display_data"
    }
   ],
   "source": [
    "# importing libraries\n",
    "import numpy as np\n",
    "import matplotlib.pyplot as plt\n",
    "\n",
    "# function to generate unit step u[n-a]\n",
    "# LL and UL are lower and upper limits of discrete time line\n",
    "def unit_step(a, n):\n",
    "    unit =[]\n",
    "    for sample in n:\n",
    "        if sample<a:\n",
    "            unit.append(0)\n",
    "        else:\n",
    "            unit.append(1)\n",
    "    return(unit)\n",
    "\n",
    "# plot unit step function u[n-a]\n",
    "a = 0 # Enter delay or advance\n",
    "UL = 10\n",
    "LL = -10\n",
    "n = np.arange(LL, UL, 1)\n",
    "unit = unit_step(a, n)\n",
    "plt.stem(n, unit)\n",
    "plt.xlabel('n')\n",
    "plt.xticks(np.arange(LL, UL, 1))\n",
    "plt.yticks([0, 1])\n",
    "plt.ylabel('u[n]')\n",
    "plt.title('Unit step u[n-a]')\n",
    "plt.savefig('UnitStep.png')"
   ]
  },
  {
   "cell_type": "markdown",
   "id": "7a2080e0",
   "metadata": {
    "id": "iC9N34tKj0_x"
   },
   "source": [
    "### ***The Unit Step***\n",
    "2.\n",
    "\\begin{equation}\n",
    " u[n-1]\n",
    "\\end{equation}"
   ]
  },
  {
   "cell_type": "code",
   "execution_count": null,
   "id": "b991cfff",
   "metadata": {
    "colab": {
     "base_uri": "https://localhost:8080/",
     "height": 295
    },
    "id": "weCQCdB7jVDk",
    "outputId": "fcd22964-41a8-4c22-f41d-8b98bdd54637"
   },
   "outputs": [
    {
     "data": {
      "image/png": "[encoded data removed]",
      "text/plain": [
       "<Figure size 432x288 with 1 Axes>"
      ]
     },
     "metadata": {
      "needs_background": "light"
     },
     "output_type": "display_data"
    }
   ],
   "source": [
    "import numpy as np\n",
    "import matplotlib.pyplot as plt\n",
    "def unit_step(a, n):\n",
    "    unit =[]\n",
    "    for sample in n:\n",
    "        if sample<a:\n",
    "            unit.append(0)\n",
    "        else:\n",
    "            unit.append(1)\n",
    "    return(unit)\n",
    "\n",
    "a = 1\n",
    "UL = 10\n",
    "LL = -10\n",
    "n = np.arange(LL, UL, 1)\n",
    "unit = unit_step(a, n)\n",
    "plt.stem(n, unit)\n",
    "plt.xlabel('n')\n",
    "plt.xticks(np.arange(LL, UL, 1))\n",
    "plt.yticks([0, 1])\n",
    "plt.ylabel('u[n]')\n",
    "plt.title('Unit step u[n-a]')\n",
    "plt.savefig('UnitStep.png')"
   ]
  },
  {
   "cell_type": "markdown",
   "id": "efc2add4",
   "metadata": {
    "id": "XtsdSHWcaaOA"
   },
   "source": [
    "### ***The Unit Impulse***\n",
    "3.\n",
    "\\begin{equation}\n",
    "δ[n] = u[n] - u[n-1]\n",
    "\\end{equation}\n",
    "\n",
    "\\begin{equation}\n",
    "u[n]-u[n-1] = \\begin{cases}\n",
    "1 & \\text{for } n = 0 \\\\\n",
    "0 & \\text{otherwise}\n",
    "\\end{cases}\n",
    "\\end{equation}\n"
   ]
  },
  {
   "cell_type": "code",
   "execution_count": null,
   "id": "46838066",
   "metadata": {
    "colab": {
     "base_uri": "https://localhost:8080/",
     "height": 295
    },
    "id": "HzYL6hfCXSlj",
    "outputId": "1c4fad3d-dfa1-409e-be68-85f9e57fd8f3"
   },
   "outputs": [
    {
     "data": {
      "image/png": "[encoded data removed]",
      "text/plain": [
       "<Figure size 432x288 with 1 Axes>"
      ]
     },
     "metadata": {
      "needs_background": "light"
     },
     "output_type": "display_data"
    }
   ],
   "source": [
    "# Function to plot Impulse signal d(a)\n",
    "def unit_impulse(a, n):\n",
    "    delta =[]\n",
    "    for sample in n:\n",
    "        if sample == a:\n",
    "            delta.append(1)\n",
    "        else:\n",
    "            delta.append(0)\n",
    "    return delta\n",
    "\n",
    "a = 0 # Enter delay or advance\n",
    "UL = 10\n",
    "LL = -10\n",
    "n = np.arange(LL, UL, 1)\n",
    "d = unit_impulse(a, n)\n",
    "plt.stem(n, d)\n",
    "plt.xlabel('n')\n",
    "plt.xticks(np.arange(LL, UL, 1))\n",
    "plt.yticks([0, 1])\n",
    "plt.ylabel('d[n]')\n",
    "plt.title('Unit Impulse d[4]')\n",
    "plt.savefig(\"UnitImpulse.png\")"
   ]
  },
  {
   "cell_type": "markdown",
   "id": "8aaa69c0",
   "metadata": {},
   "source": [
    "**3.4**\n",
    "\n",
    "\n",
    "Hossein Karbalaii Hadi, Arshia Kord, Mohammadhossein Karami"
   ]
  },
  {
   "cell_type": "code",
   "execution_count": null,
   "id": "54b30438",
   "metadata": {
    "colab": {
     "base_uri": "https://localhost:8080/",
     "height": 312
    },
    "id": "AODgSFI1s6i6",
    "outputId": "b807e36b-1961-4055-d97d-4eb7bdf82586"
   },
   "outputs": [
    {
     "data": {
      "text/plain": [
       "Text(0, 0.5, 'amplitude')"
      ]
     },
     "execution_count": 6,
     "metadata": {},
     "output_type": "execute_result"
    },
    {
     "data": {
      "image/png": "[encoded data removed]",
      "text/plain": [
       "<Figure size 432x288 with 1 Axes>"
      ]
     },
     "metadata": {},
     "output_type": "display_data"
    }
   ],
   "source": [
    "#import libraries\n",
    "import numpy as np\n",
    "import matplotlib.pyplot as plt\n",
    "#define variables\n",
    "n = np.arange(20)\n",
    "xn = np.cos(2/12*np.pi * n)\n",
    "n\n",
    "#plot the signal\n",
    "plt.stem(n,xn)\n",
    "plt.title(\"discrete cosine wave\")\n",
    "plt.xlabel(\"----->n\")\n",
    "plt.ylabel(\"amplitude\")\n",
    "\n",
    "by:Karbalaee,Karami,Kord"
   ]
  },
  {
   "cell_type": "code",
   "execution_count": null,
   "id": "e62e38bc",
   "metadata": {
    "colab": {
     "base_uri": "https://localhost:8080/",
     "height": 295
    },
    "id": "xNOKsjXSqa4E",
    "outputId": "3b0c82e3-6c0c-450a-82fa-43a396f9c8df"
   },
   "outputs": [
    {
     "data": {
      "image/png": "[encoded data removed]",
      "text/plain": [
       "<Figure size 432x288 with 1 Axes>"
      ]
     },
     "metadata": {},
     "output_type": "display_data"
    }
   ],
   "source": [
    "import matplotlib.pyplot as plt\n",
    "import numpy as np\n",
    "x=np.arange(-1,10,1)\n",
    "y=np.arange(-1,10,1)\n",
    "for i in list(y+1):\n",
    "  if(i>=0):\n",
    "      y[i]=1\n",
    "  elif(i<0):\n",
    "      y[i]=0\n",
    "  plt.stem(y)\n",
    "  plt.xlabel(\"time\")\n",
    "  plt.ylabel(\"amplitude\")\n",
    "  plt.title(\"c-t unit step function\")"
   ]
  },
  {
   "cell_type": "code",
   "execution_count": null,
   "id": "c6c0a390",
   "metadata": {
    "colab": {
     "base_uri": "https://localhost:8080/",
     "height": 314
    },
    "id": "CxQE_awl17Z1",
    "outputId": "5cc2b11a-a640-4427-c14d-21c8421b2ab3"
   },
   "outputs": [
    {
     "data": {
      "text/plain": [
       "Text(0, 0.5, '$\\\\delta[k]$')"
      ]
     },
     "execution_count": 31,
     "metadata": {},
     "output_type": "execute_result"
    },
    {
     "data": {
      "image/png": "[encoded data removed]",
      "text/plain": [
       "<Figure size 432x288 with 1 Axes>"
      ]
     },
     "metadata": {},
     "output_type": "display_data"
    }
   ],
   "source": [
    "import numpy as np\n",
    "import matplotlib.pyplot as plt\n",
    "def dirac(k):\n",
    "    return np.where(k == 1, 1.0, 0.0)\n",
    "\n",
    "k = np.arange(-10,11)\n",
    "x = dirac(k)\n",
    "plt.stem(k, x)\n",
    "plt.title(\"$\\delta[k-1]$\")\n",
    "plt.xlabel('k')\n",
    "plt.ylabel('$\\delta[k]$')\n",
    "\n",
    "\n",
    "\n"
   ]
  },
  {
   "cell_type": "markdown",
   "id": "71612fa7",
   "metadata": {},
   "source": [
    "**3.5**\n",
    "\n",
    "\n",
    "Hossein Karbalaii Hadi, Arshia Kord, Mohammadhossein Karami"
   ]
  },
  {
   "cell_type": "code",
   "execution_count": null,
   "id": "6bf7b8c7",
   "metadata": {
    "colab": {
     "base_uri": "https://localhost:8080/",
     "height": 265
    },
    "id": "HfbtChHrpryx",
    "outputId": "41f38b36-680b-46d8-e8b2-93b4fe8ad81f"
   },
   "outputs": [
    {
     "data": {
      "image/png": "[encoded data removed]",
      "text/plain": [
       "<Figure size 432x288 with 1 Axes>"
      ]
     },
     "metadata": {},
     "output_type": "display_data"
    }
   ],
   "source": [
    "import matplotlib.pyplot as plt\n",
    "import numpy as np\n",
    "x = np.array([1, 3, 4, 5, 7])\n",
    "y = np.array([1, 9, 16, 25, 49])\n",
    "\n",
    "plt.step(x, y, 'g', where='mid')\n",
    "plt.xlim(1, 9)\n",
    "plt.show()\n",
    "\n",
    "by:Karbalaee,Karami,Kord"
   ]
  },
  {
   "cell_type": "code",
   "execution_count": null,
   "id": "7ceaa9dc",
   "metadata": {
    "colab": {
     "base_uri": "https://localhost:8080/",
     "height": 312
    },
    "id": "tqcHXg6IzPvb",
    "outputId": "20d3f6fb-fef3-456d-9aff-557d7859ff2e"
   },
   "outputs": [
    {
     "data": {
      "text/plain": [
       "Text(0, 0.5, 'amplitude')"
      ]
     },
     "execution_count": 36,
     "metadata": {},
     "output_type": "execute_result"
    },
    {
     "data": {
      "image/png": "[encoded data removed]",
      "text/plain": [
       "<Figure size 432x288 with 1 Axes>"
      ]
     },
     "metadata": {},
     "output_type": "display_data"
    }
   ],
   "source": [
    "import matplotlib.pyplot as plt\n",
    "import numpy as np\n",
    "t = [-2, -1, 0, 1, 2]\n",
    "u_t = [0, 0, 1, 1, 1]\n",
    "plt.plot(t,u_t)\n",
    "plt.title('c-t unit step funtion')\n",
    "plt.xlabel(\" \\u0394t\")\n",
    "plt.ylabel(\"amplitude\")"
   ]
  }
 ],
 "metadata": {},
 "nbformat": 4,
 "nbformat_minor": 5
}
