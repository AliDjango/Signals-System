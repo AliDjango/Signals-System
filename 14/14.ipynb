{
 "cells": [
  {
   "cell_type": "markdown",
   "id": "68de1fd5",
   "metadata": {},
   "source": [
    "**14.2**\n",
    "\n",
    "\n",
    "Bahar Esmayili, Amir Bayati, "
   ]
  },
  {
   "cell_type": "code",
   "execution_count": null,
   "id": "63a57594",
   "metadata": {
    "id": "ev_7Hz7UUFME"
   },
   "outputs": [],
   "source": [
    "# 14.2\n",
    "import matplotlib.pyplot as plt\n",
    "import numpy as np\n",
    "\n",
    "omega = 3\n",
    "A = 10\n",
    "x = lambda t: t\n",
    "y = lambda t: (A + x(t)) * np.cos(omega * t)\n",
    "\n",
    "\n",
    "t = np.linspace(0, 100 , 100)\n",
    "\n",
    "\n",
    "y_values = y(t)\n",
    "\n",
    "plt.plot(t, y_values)\n",
    "plt.show()"
   ]
  }
 ],
 "metadata": {},
 "nbformat": 4,
 "nbformat_minor": 5
}
