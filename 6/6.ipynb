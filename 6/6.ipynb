{
 "cells": [
  {
   "cell_type": "markdown",
   "id": "ea4208f0",
   "metadata": {},
   "source": [
    "**6.3**\n",
    "\n",
    "\n",
    "Aydin Reisiyan, Iman Rafiie, Alireza Roozbahani"
   ]
  },
  {
   "cell_type": "code",
   "execution_count": null,
   "id": "14904250",
   "metadata": {
    "id": "fQaaA3eBHGBZ"
   },
   "outputs": [],
   "source": [
    "import numpy as np\n",
    "\n",
    "# Define the coefficients of the differential equation\n",
    "a = 1.0\n",
    "b = 2.0\n",
    "c = 1.0\n",
    "\n",
    "# Solve the characteristic equation\n",
    "r1 = (-b + np.sqrt(b**2 - 4*a*c)) / (2*a)\n",
    "r2 = (-b - np.sqrt(b**2 - 4*a*c)) / (2*a)\n",
    "\n",
    "# Define the time axis\n",
    "t = np.linspace(0, 10, 1000)\n",
    "\n",
    "# Define the constants of integration\n",
    "c1 = 1.0\n",
    "c2 = 2.0\n",
    "\n",
    "# Compute the homogeneous solution\n",
    "y_h = c1 * np.exp(r1 * t) + c2 * np.exp(r2 * t)\n",
    "#y_h = c[0] * np.exp(r[0]*t) + c[1] * np.exp(r[1]*t) + ... + c[n-1] * np.exp(r[n-1]*t)\n",
    "#y_h(t) = sum(c_i * y_i(t)) for i = 1 to n\n",
    "#aydin raisian iman rafiee alireza rouzbahani"
   ]
  },
  {
   "cell_type": "markdown",
   "id": "077ee9d6",
   "metadata": {},
   "source": [
    "**6.4**\n",
    "\n",
    "\n",
    "Melika Amirpour, Samaneh MohammadMirzayi"
   ]
  },
  {
   "cell_type": "markdown",
   "id": "7bd22457",
   "metadata": {
    "id": "R-qdzUzuQQpc"
   },
   "source": [
    "**6.4**\n",
    "###Need N auxillary conditions,e.g.\n",
    "\\begin{equation}\n",
    "y(t), \\frac{dy(t)}{dt},...,\\frac{d^N-1 y(t)}{dt^N-1}\\ at\\ t=t_0\\\\\n",
    ".Linear \\ system<=>auxilliary \\ conditions=0\\\\\n",
    ".causal,LTI<=> initial \\ rest:\\\\\n",
    "if\\ x(t)=0,t<t_0\\\\\n",
    "then\\ y(t)=0,t<t_0\\\\\n",
    "\\end{equation}"
   ]
  },
  {
   "cell_type": "markdown",
   "source": [
    "**6.6**\n",
    "\n",
    "\n",
    "Asal Rezazadeh, AmirMohammad GhahremanNezhad, Amirmohammad Montazeri"
   ],
   "metadata": {
    "collapsed": false
   }
  },
  {
   "cell_type": "markdown",
   "id": "0df0d5e2",
   "metadata": {
    "id": "UPQrV_heG1Xs"
   },
   "source": [
    "### ***2.2)Lec6 - 6.6: Transparency***\n",
    "\n",
    "\\begin{equation}\n",
    "Σ(k=0: N)ak.yh[n-k] = 0\n",
    "\\end{equation}\n",
    "\n",
    "\"guess\" solution from\n",
    "\\begin{equation}\n",
    "yh[n] = Az^n\n",
    "\\end{equation}\n",
    "\\begin{equation}\n",
    "Σ(k=0: N)ak.Az^n z^{-k} = 0\n",
    "\\end{equation}\n",
    "\n",
    "\n",
    "\\begin{equation}\n",
    "Σ(k=0: N)ak.z^{-k} = 0\n",
    "\\end{equation}\n",
    "N roots z₁,z₂,z₃,...,zn\n",
    "\\begin{equation}\n",
    "yh[n]=A₁z₁^n+...+An(zn)^n\n",
    "\\end{equation}\n"
   ]
  }
 ],
 "metadata": {},
 "nbformat": 4,
 "nbformat_minor": 5
}
