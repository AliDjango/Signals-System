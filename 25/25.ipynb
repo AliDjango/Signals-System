{
 "cells": [
  {
   "cell_type": "markdown",
   "id": "32a22293",
   "metadata": {},
   "source": [
    "**25.11**\n",
    "\n",
    "\n",
    "Reza Sobhani, Amirhossein Karami, Ali Eshraghi"
   ]
  },
  {
   "cell_type": "markdown",
   "id": "f79e7176",
   "metadata": {
    "id": "RraVq0S6myOy"
   },
   "source": [
    "\\begin{equation}\n",
    "Q(s)\\ \\ =  \\frac{Y(s)}{X(s)} \\ \\ =  \\frac{H(s)}{1+G(s)H(s)}\\\\1+G(s)H(s)\\ \\  = 0 \\ \\ \\ s=s_1,s_2\\ \\  ,\\ \\  ....\\\\stable\\ \\ \\ ⇔\\ \\ \\ Re\\{s_i\\}<0\n",
    "\\end{equation}25.11"
   ]
  },
  {
   "cell_type": "markdown",
   "id": "1ea93256",
   "metadata": {},
   "source": [
    "**25.12**\n",
    "\n",
    "\n",
    "Diana Najmedin, Hasti Farsijani,"
   ]
  },
  {
   "cell_type": "markdown",
   "id": "45252847",
   "metadata": {
    "id": "CcMTxymXDP3-"
   },
   "source": [
    "\\begin{equation}\n",
    "Q(z)=\\frac{Y(z)}{X(z)}=\\frac{H(z)}{1+G(z)H(z)}\\\\1+G(z)H(z)=0\\ z=z_1,z_2,...\\\\stable<=>|z_i|<1\n",
    "\\end{equation}"
   ]
  },
  {
   "cell_type": "markdown",
   "id": "7469f243",
   "metadata": {
    "id": "Xgw-g63oHXdj"
   },
   "source": []
  }
 ],
 "metadata": {},
 "nbformat": 4,
 "nbformat_minor": 5
}
